{
 "cells": [
  {
   "cell_type": "markdown",
   "metadata": {},
   "source": [
    "# Source: data.world  \n",
    "# Date created: May 2017"
   ]
  },
  {
   "cell_type": "code",
   "execution_count": 3,
   "metadata": {},
   "outputs": [],
   "source": [
    "import pandas as pd"
   ]
  },
  {
   "cell_type": "code",
   "execution_count": 4,
   "metadata": {},
   "outputs": [],
   "source": [
    "raw = pd.read_csv('Tinder Millennial Match Rate Dataset.csv').drop([3,4,5])"
   ]
  },
  {
   "cell_type": "code",
   "execution_count": 6,
   "metadata": {},
   "outputs": [
    {
     "data": {
      "text/html": [
       "<div>\n",
       "<style scoped>\n",
       "    .dataframe tbody tr th:only-of-type {\n",
       "        vertical-align: middle;\n",
       "    }\n",
       "\n",
       "    .dataframe tbody tr th {\n",
       "        vertical-align: top;\n",
       "    }\n",
       "\n",
       "    .dataframe thead th {\n",
       "        text-align: right;\n",
       "    }\n",
       "</style>\n",
       "<table border=\"1\" class=\"dataframe\">\n",
       "  <thead>\n",
       "    <tr style=\"text-align: right;\">\n",
       "      <th></th>\n",
       "      <th>Question</th>\n",
       "      <th>Segment Type</th>\n",
       "      <th>Segment Description</th>\n",
       "      <th>Answer</th>\n",
       "      <th>Count</th>\n",
       "      <th>Percentage</th>\n",
       "    </tr>\n",
       "  </thead>\n",
       "  <tbody>\n",
       "    <tr>\n",
       "      <th>0</th>\n",
       "      <td>Have you ever met up with someone off tinder?</td>\n",
       "      <td>Mobile</td>\n",
       "      <td>Mobile respondents</td>\n",
       "      <td>Yes</td>\n",
       "      <td>797</td>\n",
       "      <td>0.207</td>\n",
       "    </tr>\n",
       "    <tr>\n",
       "      <th>1</th>\n",
       "      <td>Have you ever met up with someone off tinder?</td>\n",
       "      <td>Mobile</td>\n",
       "      <td>Mobile respondents</td>\n",
       "      <td>No</td>\n",
       "      <td>1969</td>\n",
       "      <td>0.511</td>\n",
       "    </tr>\n",
       "    <tr>\n",
       "      <th>2</th>\n",
       "      <td>Have you ever met up with someone off tinder?</td>\n",
       "      <td>Mobile</td>\n",
       "      <td>Mobile respondents</td>\n",
       "      <td>I don't use Tinder</td>\n",
       "      <td>1090</td>\n",
       "      <td>0.283</td>\n",
       "    </tr>\n",
       "    <tr>\n",
       "      <th>3</th>\n",
       "      <td>Have you ever met up with someone off tinder?</td>\n",
       "      <td>Gender</td>\n",
       "      <td>Male respondents</td>\n",
       "      <td>Yes</td>\n",
       "      <td>472</td>\n",
       "      <td>0.213</td>\n",
       "    </tr>\n",
       "    <tr>\n",
       "      <th>4</th>\n",
       "      <td>Have you ever met up with someone off tinder?</td>\n",
       "      <td>Gender</td>\n",
       "      <td>Male respondents</td>\n",
       "      <td>No</td>\n",
       "      <td>1172</td>\n",
       "      <td>0.528</td>\n",
       "    </tr>\n",
       "  </tbody>\n",
       "</table>\n",
       "</div>"
      ],
      "text/plain": [
       "                                        Question Segment Type  \\\n",
       "0  Have you ever met up with someone off tinder?       Mobile   \n",
       "1  Have you ever met up with someone off tinder?       Mobile   \n",
       "2  Have you ever met up with someone off tinder?       Mobile   \n",
       "3  Have you ever met up with someone off tinder?       Gender   \n",
       "4  Have you ever met up with someone off tinder?       Gender   \n",
       "\n",
       "  Segment Description              Answer  Count  Percentage  \n",
       "0  Mobile respondents                 Yes    797       0.207  \n",
       "1  Mobile respondents                  No   1969       0.511  \n",
       "2  Mobile respondents  I don't use Tinder   1090       0.283  \n",
       "3    Male respondents                 Yes    472       0.213  \n",
       "4    Male respondents                  No   1172       0.528  "
      ]
     },
     "execution_count": 6,
     "metadata": {},
     "output_type": "execute_result"
    }
   ],
   "source": [
    "raw.reset_index().drop(columns='index').head()"
   ]
  },
  {
   "cell_type": "code",
   "execution_count": 30,
   "metadata": {},
   "outputs": [
    {
     "data": {
      "text/html": [
       "<div>\n",
       "<style scoped>\n",
       "    .dataframe tbody tr th:only-of-type {\n",
       "        vertical-align: middle;\n",
       "    }\n",
       "\n",
       "    .dataframe tbody tr th {\n",
       "        vertical-align: top;\n",
       "    }\n",
       "\n",
       "    .dataframe thead th {\n",
       "        text-align: right;\n",
       "    }\n",
       "</style>\n",
       "<table border=\"1\" class=\"dataframe\">\n",
       "  <thead>\n",
       "    <tr style=\"text-align: right;\">\n",
       "      <th></th>\n",
       "      <th>Question</th>\n",
       "      <th>Segment Type</th>\n",
       "      <th>Segment Description</th>\n",
       "      <th>Answer</th>\n",
       "      <th>Count</th>\n",
       "      <th>Percentage</th>\n",
       "    </tr>\n",
       "  </thead>\n",
       "  <tbody>\n",
       "    <tr>\n",
       "      <th>6</th>\n",
       "      <td>Have you ever met up with someone off tinder?</td>\n",
       "      <td>Gender</td>\n",
       "      <td>Male respondents</td>\n",
       "      <td>Yes</td>\n",
       "      <td>472</td>\n",
       "      <td>0.213</td>\n",
       "    </tr>\n",
       "    <tr>\n",
       "      <th>7</th>\n",
       "      <td>Have you ever met up with someone off tinder?</td>\n",
       "      <td>Gender</td>\n",
       "      <td>Male respondents</td>\n",
       "      <td>No</td>\n",
       "      <td>1172</td>\n",
       "      <td>0.528</td>\n",
       "    </tr>\n",
       "    <tr>\n",
       "      <th>8</th>\n",
       "      <td>Have you ever met up with someone off tinder?</td>\n",
       "      <td>Gender</td>\n",
       "      <td>Male respondents</td>\n",
       "      <td>I don't use Tinder</td>\n",
       "      <td>574</td>\n",
       "      <td>0.259</td>\n",
       "    </tr>\n",
       "  </tbody>\n",
       "</table>\n",
       "</div>"
      ],
      "text/plain": [
       "                                        Question Segment Type  \\\n",
       "6  Have you ever met up with someone off tinder?       Gender   \n",
       "7  Have you ever met up with someone off tinder?       Gender   \n",
       "8  Have you ever met up with someone off tinder?       Gender   \n",
       "\n",
       "  Segment Description              Answer  Count  Percentage  \n",
       "6    Male respondents                 Yes    472       0.213  \n",
       "7    Male respondents                  No   1172       0.528  \n",
       "8    Male respondents  I don't use Tinder    574       0.259  "
      ]
     },
     "execution_count": 30,
     "metadata": {},
     "output_type": "execute_result"
    }
   ],
   "source": [
    "male=raw.iloc[3:6]\n",
    "male"
   ]
  },
  {
   "cell_type": "code",
   "execution_count": 37,
   "metadata": {},
   "outputs": [
    {
     "data": {
      "text/html": [
       "<div>\n",
       "<style scoped>\n",
       "    .dataframe tbody tr th:only-of-type {\n",
       "        vertical-align: middle;\n",
       "    }\n",
       "\n",
       "    .dataframe tbody tr th {\n",
       "        vertical-align: top;\n",
       "    }\n",
       "\n",
       "    .dataframe thead th {\n",
       "        text-align: right;\n",
       "    }\n",
       "</style>\n",
       "<table border=\"1\" class=\"dataframe\">\n",
       "  <thead>\n",
       "    <tr style=\"text-align: right;\">\n",
       "      <th></th>\n",
       "      <th>Question</th>\n",
       "      <th>Segment Type</th>\n",
       "      <th>Segment Description</th>\n",
       "      <th>Answer</th>\n",
       "      <th>Count</th>\n",
       "      <th>Percentage</th>\n",
       "    </tr>\n",
       "  </thead>\n",
       "  <tbody>\n",
       "    <tr>\n",
       "      <th>9</th>\n",
       "      <td>Have you ever met up with someone off tinder?</td>\n",
       "      <td>Gender</td>\n",
       "      <td>Female respondents</td>\n",
       "      <td>Yes</td>\n",
       "      <td>325</td>\n",
       "      <td>0.198</td>\n",
       "    </tr>\n",
       "    <tr>\n",
       "      <th>10</th>\n",
       "      <td>Have you ever met up with someone off tinder?</td>\n",
       "      <td>Gender</td>\n",
       "      <td>Female respondents</td>\n",
       "      <td>No</td>\n",
       "      <td>797</td>\n",
       "      <td>0.487</td>\n",
       "    </tr>\n",
       "    <tr>\n",
       "      <th>11</th>\n",
       "      <td>Have you ever met up with someone off tinder?</td>\n",
       "      <td>Gender</td>\n",
       "      <td>Female respondents</td>\n",
       "      <td>I don't use Tinder</td>\n",
       "      <td>516</td>\n",
       "      <td>0.315</td>\n",
       "    </tr>\n",
       "  </tbody>\n",
       "</table>\n",
       "</div>"
      ],
      "text/plain": [
       "                                         Question Segment Type  \\\n",
       "9   Have you ever met up with someone off tinder?       Gender   \n",
       "10  Have you ever met up with someone off tinder?       Gender   \n",
       "11  Have you ever met up with someone off tinder?       Gender   \n",
       "\n",
       "   Segment Description              Answer  Count  Percentage  \n",
       "9   Female respondents                 Yes    325       0.198  \n",
       "10  Female respondents                  No    797       0.487  \n",
       "11  Female respondents  I don't use Tinder    516       0.315  "
      ]
     },
     "execution_count": 37,
     "metadata": {},
     "output_type": "execute_result"
    }
   ],
   "source": [
    "female=raw.iloc[6:9]\n",
    "female"
   ]
  },
  {
   "cell_type": "code",
   "execution_count": 38,
   "metadata": {},
   "outputs": [],
   "source": [
    "import matplotlib.pyplot as plt\n",
    "import numpy as np"
   ]
  },
  {
   "cell_type": "code",
   "execution_count": 69,
   "metadata": {},
   "outputs": [
    {
     "data": {
      "image/png": "[encoded data removed]",
      "text/plain": [
       "<Figure size 1800x1296 with 1 Axes>"
      ]
     },
     "metadata": {
      "needs_background": "light"
     },
     "output_type": "display_data"
    }
   ],
   "source": [
    "f, ax = plt.subplots(1, figsize=(25,18))\n",
    "\n",
    "yes = np.array([21.3, 19.8])\n",
    "no = np.array([52.8, 48.7])\n",
    "dont = np.array([25.9, 31.5])\n",
    "ind =np.arange(2)\n",
    "\n",
    "plt.bar(ind, yes, width=0.7, label='yes', color='gold', bottom=no+dont)\n",
    "plt.bar(ind, no, width=0.7, label='no', color='silver', bottom=dont)\n",
    "plt.bar(ind, dont, width=0.7, label='dont', color='#CD853F')\n",
    "\n",
    "plt.legend(('Yes','No','Not a user'), fontsize=30)\n",
    "plt.title('Have you met someone on Tinder', fontsize=35)\n",
    "plt.ylabel('Percentage',fontsize=30)\n",
    "plt.xlabel('Gender', fontsize=30)\n",
    "plt.xticks(range(2), labels=['Male','Female'], rotation='horizontal', fontsize='25')\n",
    "plt.yticks(fontsize='25')\n",
    "\n",
    "plt.show()\n"
   ]
  },
  {
   "cell_type": "code",
   "execution_count": null,
   "metadata": {},
   "outputs": [],
   "source": []
  },
  {
   "cell_type": "raw",
   "metadata": {},
   "source": [
    "uni=raw.iloc[10:]\n",
    "uni"
   ]
  },
  {
   "cell_type": "code",
   "execution_count": 56,
   "metadata": {},
   "outputs": [
    {
     "data": {
      "text/plain": [
       "Count    2410\n",
       "dtype: int64"
      ]
     },
     "execution_count": 56,
     "metadata": {},
     "output_type": "execute_result"
    }
   ],
   "source": [
    "uni=raw.iloc[10:].groupby('Answer',as_index=False).agg({'Count':'sum'})\n",
    "uni.agg({'Count':'sum'})"
   ]
  },
  {
   "cell_type": "code",
   "execution_count": 60,
   "metadata": {},
   "outputs": [],
   "source": [
    "percentage= [uni['Count'].iloc[i]/2410 for i in range(3)]"
   ]
  },
  {
   "cell_type": "code",
   "execution_count": 63,
   "metadata": {},
   "outputs": [
    {
     "data": {
      "text/html": [
       "<div>\n",
       "<style scoped>\n",
       "    .dataframe tbody tr th:only-of-type {\n",
       "        vertical-align: middle;\n",
       "    }\n",
       "\n",
       "    .dataframe tbody tr th {\n",
       "        vertical-align: top;\n",
       "    }\n",
       "\n",
       "    .dataframe thead th {\n",
       "        text-align: right;\n",
       "    }\n",
       "</style>\n",
       "<table border=\"1\" class=\"dataframe\">\n",
       "  <thead>\n",
       "    <tr style=\"text-align: right;\">\n",
       "      <th></th>\n",
       "      <th>Answer</th>\n",
       "      <th>Count</th>\n",
       "      <th>Percentage</th>\n",
       "    </tr>\n",
       "  </thead>\n",
       "  <tbody>\n",
       "    <tr>\n",
       "      <th>0</th>\n",
       "      <td>I don't use Tinder</td>\n",
       "      <td>600</td>\n",
       "      <td>0.248963</td>\n",
       "    </tr>\n",
       "    <tr>\n",
       "      <th>1</th>\n",
       "      <td>No</td>\n",
       "      <td>1289</td>\n",
       "      <td>0.534855</td>\n",
       "    </tr>\n",
       "    <tr>\n",
       "      <th>2</th>\n",
       "      <td>Yes</td>\n",
       "      <td>521</td>\n",
       "      <td>0.216183</td>\n",
       "    </tr>\n",
       "  </tbody>\n",
       "</table>\n",
       "</div>"
      ],
      "text/plain": [
       "               Answer  Count  Percentage\n",
       "0  I don't use Tinder    600    0.248963\n",
       "1                  No   1289    0.534855\n",
       "2                 Yes    521    0.216183"
      ]
     },
     "execution_count": 63,
     "metadata": {},
     "output_type": "execute_result"
    }
   ],
   "source": [
    "uni['Percentage']=percentage\n",
    "uni"
   ]
  },
  {
   "cell_type": "code",
   "execution_count": null,
   "metadata": {},
   "outputs": [],
   "source": []
  }
 ],
 "metadata": {
  "kernelspec": {
   "display_name": "Python 3",
   "language": "python",
   "name": "python3"
  },
  "language_info": {
   "codemirror_mode": {
    "name": "ipython",
    "version": 3
   },
   "file_extension": ".py",
   "mimetype": "text/x-python",
   "name": "python",
   "nbconvert_exporter": "python",
   "pygments_lexer": "ipython3",
   "version": "3.7.1"
  }
 },
 "nbformat": 4,
 "nbformat_minor": 2
}
